{
 "cells": [
  {
   "cell_type": "code",
   "execution_count": 1,
   "metadata": {},
   "outputs": [],
   "source": [
    "%load_ext autoreload\n",
    "%autoreload 2"
   ]
  },
  {
   "cell_type": "code",
   "execution_count": 15,
   "metadata": {},
   "outputs": [],
   "source": [
    "import laserbeam\n",
    "import pandas as pd\n",
    "import torch\n",
    "from os.path import join\n",
    "from torch.utils.data import DataLoader"
   ]
  },
  {
   "cell_type": "code",
   "execution_count": 3,
   "metadata": {},
   "outputs": [],
   "source": [
    "def gpu_to_cpu(result):\n",
    "    \n",
    "    cpu_data = {}\n",
    "    for key in result:\n",
    "        if type(result[key]) is torch.Tensor:\n",
    "            cpu_data[key] = result[key].to(\"cpu\")\n",
    "        else:\n",
    "            cpu_data[key] = result[key]\n",
    "    return cpu_data"
   ]
  },
  {
   "cell_type": "code",
   "execution_count": 4,
   "metadata": {},
   "outputs": [
    {
     "name": "stderr",
     "output_type": "stream",
     "text": [
      "\r",
      "|Epoch 89| Test Starting:   0%|                                                          | 0/47 [00:00<?, ?it/s]"
     ]
    },
    {
     "name": "stdout",
     "output_type": "stream",
     "text": [
      "Loaded checkpoint epoch089_2020-08-25_14-33-36.pth at epoch 89, with val_loss: 0.01831048629329806\n"
     ]
    },
    {
     "name": "stderr",
     "output_type": "stream",
     "text": [
      "|Epoch 89| Test - Batch 47 | Loss: 0.014503965787762935 | Status: 100%|█████████| 47/47 [00:05<00:00,  8.78it/s]"
     ]
    },
    {
     "name": "stdout",
     "output_type": "stream",
     "text": [
      "|epoch 89| Mean loss: 0.014504\n"
     ]
    },
    {
     "name": "stderr",
     "output_type": "stream",
     "text": [
      "\n"
     ]
    }
   ],
   "source": [
    "trainer = laserbeam.Trainer()\n",
    "#trainer.load_checkpoint(join(trainer.model_path, \"checkpoint\", 'epoch069_2020-08-25_14-22-06.pth'))\n",
    "trainer.load_checkpoint()\n",
    "r = trainer.evaluate()"
   ]
  },
  {
   "cell_type": "code",
   "execution_count": null,
   "metadata": {},
   "outputs": [],
   "source": [
    "trainer = laserbeam.Trainer()\n",
    "trainer.load_checkpoint(join(trainer.model_path, \"checkpoint\", 'epoch042_2020-08-27_22-04-25.pth'))\n",
    "r = trainer.evaluate()"
   ]
  },
  {
   "cell_type": "code",
   "execution_count": 5,
   "metadata": {},
   "outputs": [
    {
     "data": {
      "text/html": [
       "<div>\n",
       "<style scoped>\n",
       "    .dataframe tbody tr th:only-of-type {\n",
       "        vertical-align: middle;\n",
       "    }\n",
       "\n",
       "    .dataframe tbody tr th {\n",
       "        vertical-align: top;\n",
       "    }\n",
       "\n",
       "    .dataframe thead th {\n",
       "        text-align: right;\n",
       "    }\n",
       "</style>\n",
       "<table border=\"1\" class=\"dataframe\">\n",
       "  <thead>\n",
       "    <tr style=\"text-align: right;\">\n",
       "      <th></th>\n",
       "      <th>Ground truth (theta, phi)</th>\n",
       "      <th>Output (theta, phi)</th>\n",
       "    </tr>\n",
       "  </thead>\n",
       "  <tbody>\n",
       "    <tr>\n",
       "      <th>0</th>\n",
       "      <td>[93.0, 243.0]</td>\n",
       "      <td>[88.5807113647461, 249.90847778320312]</td>\n",
       "    </tr>\n",
       "    <tr>\n",
       "      <th>1</th>\n",
       "      <td>[116.99999237060547, 81.0]</td>\n",
       "      <td>[120.35664367675781, 83.48788452148438]</td>\n",
       "    </tr>\n",
       "    <tr>\n",
       "      <th>2</th>\n",
       "      <td>[116.99999237060547, 351.0]</td>\n",
       "      <td>[118.79225158691406, 356.77801513671875]</td>\n",
       "    </tr>\n",
       "    <tr>\n",
       "      <th>3</th>\n",
       "      <td>[147.0, 348.0]</td>\n",
       "      <td>[145.32882690429688, 358.679931640625]</td>\n",
       "    </tr>\n",
       "    <tr>\n",
       "      <th>4</th>\n",
       "      <td>[108.00000762939453, 219.0]</td>\n",
       "      <td>[108.01277923583984, 220.6490020751953]</td>\n",
       "    </tr>\n",
       "    <tr>\n",
       "      <th>...</th>\n",
       "      <td>...</td>\n",
       "      <td>...</td>\n",
       "    </tr>\n",
       "    <tr>\n",
       "      <th>733</th>\n",
       "      <td>[120.0, 333.0]</td>\n",
       "      <td>[117.69844055175781, 342.88531494140625]</td>\n",
       "    </tr>\n",
       "    <tr>\n",
       "      <th>734</th>\n",
       "      <td>[57.0, 126.0]</td>\n",
       "      <td>[53.31520080566406, 133.12063598632812]</td>\n",
       "    </tr>\n",
       "    <tr>\n",
       "      <th>735</th>\n",
       "      <td>[108.00000762939453, 93.0]</td>\n",
       "      <td>[109.45751953125, 97.7007827758789]</td>\n",
       "    </tr>\n",
       "    <tr>\n",
       "      <th>736</th>\n",
       "      <td>[60.0, 233.99998474121094]</td>\n",
       "      <td>[56.69301986694336, 239.33663940429688]</td>\n",
       "    </tr>\n",
       "    <tr>\n",
       "      <th>737</th>\n",
       "      <td>[27.000001907348633, 216.00001525878906]</td>\n",
       "      <td>[27.36374855041504, 219.19007873535156]</td>\n",
       "    </tr>\n",
       "  </tbody>\n",
       "</table>\n",
       "<p>738 rows × 2 columns</p>\n",
       "</div>"
      ],
      "text/plain": [
       "                    Ground truth (theta, phi)  \\\n",
       "0                               [93.0, 243.0]   \n",
       "1                  [116.99999237060547, 81.0]   \n",
       "2                 [116.99999237060547, 351.0]   \n",
       "3                              [147.0, 348.0]   \n",
       "4                 [108.00000762939453, 219.0]   \n",
       "..                                        ...   \n",
       "733                            [120.0, 333.0]   \n",
       "734                             [57.0, 126.0]   \n",
       "735                [108.00000762939453, 93.0]   \n",
       "736                [60.0, 233.99998474121094]   \n",
       "737  [27.000001907348633, 216.00001525878906]   \n",
       "\n",
       "                          Output (theta, phi)  \n",
       "0      [88.5807113647461, 249.90847778320312]  \n",
       "1     [120.35664367675781, 83.48788452148438]  \n",
       "2    [118.79225158691406, 356.77801513671875]  \n",
       "3      [145.32882690429688, 358.679931640625]  \n",
       "4     [108.01277923583984, 220.6490020751953]  \n",
       "..                                        ...  \n",
       "733  [117.69844055175781, 342.88531494140625]  \n",
       "734   [53.31520080566406, 133.12063598632812]  \n",
       "735       [109.45751953125, 97.7007827758789]  \n",
       "736   [56.69301986694336, 239.33663940429688]  \n",
       "737   [27.36374855041504, 219.19007873535156]  \n",
       "\n",
       "[738 rows x 2 columns]"
      ]
     },
     "execution_count": 5,
     "metadata": {},
     "output_type": "execute_result"
    }
   ],
   "source": [
    "cpu_data = gpu_to_cpu(r)\n",
    "cpu_data['groundtruth'] = cpu_data['groundtruth']*180.0\n",
    "cpu_data['output'] = cpu_data['output']*180.0\n",
    "df_data = {'Ground truth (theta, phi)': cpu_data['groundtruth'].tolist(), \"Output (theta, phi)\" : cpu_data['output'].tolist()}\n",
    "df= pd.DataFrame(df_data)\n",
    "df"
   ]
  },
  {
   "cell_type": "code",
   "execution_count": 8,
   "metadata": {},
   "outputs": [],
   "source": [
    "df.to_csv(\"resnet34_epoch_89.csv\")"
   ]
  },
  {
   "cell_type": "code",
   "execution_count": 21,
   "metadata": {},
   "outputs": [],
   "source": [
    "dataset_path = \"D:\\\\laserBeam-2020\\\\Dataset\\\\random_v0\"\n",
    "random_dataframe = trainer.load_dataframe(dataset_path)\n",
    "trainer.datasets['test'] = laserbeam.LaserDataset(dataset_path, random_dataframe)\n",
    "trainer.dataloaders['test'] = DataLoader( trainer.datasets['test'], batch_size=16, shuffle=True, num_workers=1, pin_memory=True)"
   ]
  },
  {
   "cell_type": "code",
   "execution_count": 22,
   "metadata": {},
   "outputs": [
    {
     "name": "stderr",
     "output_type": "stream",
     "text": [
      "|Epoch 89| Test - Batch 7 | Loss: 0.010730786182518517 | Status: 100%|████████████| 7/7 [00:02<00:00,  3.01it/s]"
     ]
    },
    {
     "name": "stdout",
     "output_type": "stream",
     "text": [
      "|epoch 89| Mean loss: 0.010731\n"
     ]
    },
    {
     "name": "stderr",
     "output_type": "stream",
     "text": [
      "\n"
     ]
    }
   ],
   "source": [
    "r = trainer.evaluate()\n",
    "cpu_data = gpu_to_cpu(r)\n",
    "cpu_data['groundtruth'] = cpu_data['groundtruth']*180.0\n",
    "cpu_data['output'] = cpu_data['output']*180.0\n",
    "df_data = {'Ground truth (theta, phi)': cpu_data['groundtruth'].tolist(), \"Output (theta, phi)\" : cpu_data['output'].tolist()}\n",
    "df= pd.DataFrame(df_data)\n",
    "df\n",
    "df.to_csv(\"resnet34_epoch_89_random.csv\")"
   ]
  },
  {
   "cell_type": "code",
   "execution_count": 23,
   "metadata": {},
   "outputs": [
    {
     "data": {
      "text/html": [
       "<div>\n",
       "<style scoped>\n",
       "    .dataframe tbody tr th:only-of-type {\n",
       "        vertical-align: middle;\n",
       "    }\n",
       "\n",
       "    .dataframe tbody tr th {\n",
       "        vertical-align: top;\n",
       "    }\n",
       "\n",
       "    .dataframe thead th {\n",
       "        text-align: right;\n",
       "    }\n",
       "</style>\n",
       "<table border=\"1\" class=\"dataframe\">\n",
       "  <thead>\n",
       "    <tr style=\"text-align: right;\">\n",
       "      <th></th>\n",
       "      <th>Ground truth (theta, phi)</th>\n",
       "      <th>Output (theta, phi)</th>\n",
       "    </tr>\n",
       "  </thead>\n",
       "  <tbody>\n",
       "    <tr>\n",
       "      <th>0</th>\n",
       "      <td>[32.0, 170.0]</td>\n",
       "      <td>[29.271438598632812, 177.22227478027344]</td>\n",
       "    </tr>\n",
       "    <tr>\n",
       "      <th>1</th>\n",
       "      <td>[77.0, 280.0]</td>\n",
       "      <td>[70.02300262451172, 286.5550537109375]</td>\n",
       "    </tr>\n",
       "    <tr>\n",
       "      <th>2</th>\n",
       "      <td>[1.0, 339.0]</td>\n",
       "      <td>[0.3507745862007141, 195.59085083007812]</td>\n",
       "    </tr>\n",
       "    <tr>\n",
       "      <th>3</th>\n",
       "      <td>[68.0, 235.0]</td>\n",
       "      <td>[61.286651611328125, 242.09347534179688]</td>\n",
       "    </tr>\n",
       "    <tr>\n",
       "      <th>4</th>\n",
       "      <td>[163.0, 66.0]</td>\n",
       "      <td>[166.328369140625, 67.90680694580078]</td>\n",
       "    </tr>\n",
       "    <tr>\n",
       "      <th>...</th>\n",
       "      <td>...</td>\n",
       "      <td>...</td>\n",
       "    </tr>\n",
       "    <tr>\n",
       "      <th>95</th>\n",
       "      <td>[131.0, 222.0]</td>\n",
       "      <td>[128.9761199951172, 226.92822265625]</td>\n",
       "    </tr>\n",
       "    <tr>\n",
       "      <th>96</th>\n",
       "      <td>[177.0, 245.00001525878906]</td>\n",
       "      <td>[179.3787841796875, 238.22669982910156]</td>\n",
       "    </tr>\n",
       "    <tr>\n",
       "      <th>97</th>\n",
       "      <td>[77.0, 352.0]</td>\n",
       "      <td>[79.37931060791016, 361.0884094238281]</td>\n",
       "    </tr>\n",
       "    <tr>\n",
       "      <th>98</th>\n",
       "      <td>[82.0, 236.0]</td>\n",
       "      <td>[77.68486022949219, 244.96385192871094]</td>\n",
       "    </tr>\n",
       "    <tr>\n",
       "      <th>99</th>\n",
       "      <td>[96.00000762939453, 237.00001525878906]</td>\n",
       "      <td>[89.82355499267578, 245.69635009765625]</td>\n",
       "    </tr>\n",
       "  </tbody>\n",
       "</table>\n",
       "<p>100 rows × 2 columns</p>\n",
       "</div>"
      ],
      "text/plain": [
       "                  Ground truth (theta, phi)  \\\n",
       "0                             [32.0, 170.0]   \n",
       "1                             [77.0, 280.0]   \n",
       "2                              [1.0, 339.0]   \n",
       "3                             [68.0, 235.0]   \n",
       "4                             [163.0, 66.0]   \n",
       "..                                      ...   \n",
       "95                           [131.0, 222.0]   \n",
       "96              [177.0, 245.00001525878906]   \n",
       "97                            [77.0, 352.0]   \n",
       "98                            [82.0, 236.0]   \n",
       "99  [96.00000762939453, 237.00001525878906]   \n",
       "\n",
       "                         Output (theta, phi)  \n",
       "0   [29.271438598632812, 177.22227478027344]  \n",
       "1     [70.02300262451172, 286.5550537109375]  \n",
       "2   [0.3507745862007141, 195.59085083007812]  \n",
       "3   [61.286651611328125, 242.09347534179688]  \n",
       "4      [166.328369140625, 67.90680694580078]  \n",
       "..                                       ...  \n",
       "95      [128.9761199951172, 226.92822265625]  \n",
       "96   [179.3787841796875, 238.22669982910156]  \n",
       "97    [79.37931060791016, 361.0884094238281]  \n",
       "98   [77.68486022949219, 244.96385192871094]  \n",
       "99   [89.82355499267578, 245.69635009765625]  \n",
       "\n",
       "[100 rows x 2 columns]"
      ]
     },
     "execution_count": 23,
     "metadata": {},
     "output_type": "execute_result"
    }
   ],
   "source": [
    "df"
   ]
  },
  {
   "cell_type": "code",
   "execution_count": null,
   "metadata": {},
   "outputs": [],
   "source": []
  }
 ],
 "metadata": {
  "kernelspec": {
   "display_name": "Python 3",
   "language": "python",
   "name": "python3"
  },
  "language_info": {
   "codemirror_mode": {
    "name": "ipython",
    "version": 3
   },
   "file_extension": ".py",
   "mimetype": "text/x-python",
   "name": "python",
   "nbconvert_exporter": "python",
   "pygments_lexer": "ipython3",
   "version": "3.8.2"
  }
 },
 "nbformat": 4,
 "nbformat_minor": 4
}
